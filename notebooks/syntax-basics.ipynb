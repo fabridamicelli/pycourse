{
 "cells": [
  {
   "cell_type": "markdown",
   "id": "68e89d9a-b207-4d0f-944e-b2ecdb00ffb2",
   "metadata": {},
   "source": [
    "# "
   ]
  },
  {
   "cell_type": "code",
   "execution_count": 2,
   "id": "27cf1dbd-a236-4e69-8e64-19ce5099c347",
   "metadata": {},
   "outputs": [
    {
     "data": {
      "text/plain": [
       "2"
      ]
     },
     "execution_count": 2,
     "metadata": {},
     "output_type": "execute_result"
    }
   ],
   "source": [
    "1 + 1"
   ]
  },
  {
   "cell_type": "code",
   "execution_count": 3,
   "id": "43fbaa0d-9099-41fb-93ab-f9350b012392",
   "metadata": {},
   "outputs": [
    {
     "data": {
      "text/plain": [
       "1.0"
      ]
     },
     "execution_count": 3,
     "metadata": {},
     "output_type": "execute_result"
    }
   ],
   "source": [
    "1."
   ]
  },
  {
   "cell_type": "code",
   "execution_count": 4,
   "id": "5014a7d2-d800-4c26-9a7c-668d32e0a9b2",
   "metadata": {},
   "outputs": [
    {
     "data": {
      "text/plain": [
       "3.0"
      ]
     },
     "execution_count": 4,
     "metadata": {},
     "output_type": "execute_result"
    }
   ],
   "source": [
    "1 + 2."
   ]
  },
  {
   "cell_type": "code",
   "execution_count": 5,
   "id": "000bb0d6-4b3e-4ec8-8a0a-9be89687b655",
   "metadata": {},
   "outputs": [
    {
     "data": {
      "text/plain": [
       "int"
      ]
     },
     "execution_count": 5,
     "metadata": {},
     "output_type": "execute_result"
    }
   ],
   "source": [
    "type(1)"
   ]
  },
  {
   "cell_type": "code",
   "execution_count": 6,
   "id": "07d7a9c4-4b6d-4636-814a-b9142474b11a",
   "metadata": {},
   "outputs": [
    {
     "data": {
      "text/plain": [
       "float"
      ]
     },
     "execution_count": 6,
     "metadata": {},
     "output_type": "execute_result"
    }
   ],
   "source": [
    "type(1.0)"
   ]
  },
  {
   "cell_type": "code",
   "execution_count": 7,
   "id": "7ca34394-a38f-455b-8027-90054d441588",
   "metadata": {},
   "outputs": [
    {
     "data": {
      "text/plain": [
       "True"
      ]
     },
     "execution_count": 7,
     "metadata": {},
     "output_type": "execute_result"
    }
   ],
   "source": [
    "1 == 1.0"
   ]
  },
  {
   "cell_type": "code",
   "execution_count": 11,
   "id": "7b12b465-ae62-43a6-ae21-1d7c2b8a9dc2",
   "metadata": {},
   "outputs": [
    {
     "data": {
      "text/plain": [
       "str"
      ]
     },
     "execution_count": 11,
     "metadata": {},
     "output_type": "execute_result"
    }
   ],
   "source": [
    "type(\"hello wirkd\")"
   ]
  },
  {
   "cell_type": "code",
   "execution_count": 17,
   "id": "1a30c80b-ece5-4301-98fc-4bdf6ac82179",
   "metadata": {},
   "outputs": [
    {
     "data": {
      "text/plain": [
       "'hello'"
      ]
     },
     "execution_count": 17,
     "metadata": {},
     "output_type": "execute_result"
    }
   ],
   "source": [
    "s  = \"Hello\"\n",
    "s.lower()"
   ]
  },
  {
   "cell_type": "code",
   "execution_count": 15,
   "id": "80f5b757-f244-4eb6-98e0-3c30725400a7",
   "metadata": {},
   "outputs": [
    {
     "data": {
      "text/plain": [
       "'Hello'"
      ]
     },
     "execution_count": 15,
     "metadata": {},
     "output_type": "execute_result"
    }
   ],
   "source": [
    "s"
   ]
  },
  {
   "cell_type": "code",
   "execution_count": 19,
   "id": "72c3a517-984e-4107-89cf-b59b64d87a81",
   "metadata": {},
   "outputs": [
    {
     "data": {
      "text/plain": [
       "True"
      ]
     },
     "execution_count": 19,
     "metadata": {},
     "output_type": "execute_result"
    }
   ],
   "source": [
    "s == \"Hello\""
   ]
  },
  {
   "cell_type": "code",
   "execution_count": 22,
   "id": "d923fb20-b554-4a36-8c37-f4e7f68cdcb2",
   "metadata": {},
   "outputs": [],
   "source": [
    "s = \"hello.world\""
   ]
  },
  {
   "cell_type": "code",
   "execution_count": 25,
   "id": "63692424-f7ed-41fe-9aab-c383918bb633",
   "metadata": {},
   "outputs": [
    {
     "data": {
      "text/plain": [
       "['hello', 'world']"
      ]
     },
     "execution_count": 25,
     "metadata": {},
     "output_type": "execute_result"
    }
   ],
   "source": [
    "s.split(\".\")"
   ]
  },
  {
   "cell_type": "code",
   "execution_count": 27,
   "id": "d8d2cfbd-2d9e-41aa-ae6f-27f6cd35b39d",
   "metadata": {},
   "outputs": [
    {
     "data": {
      "text/plain": [
       "False"
      ]
     },
     "execution_count": 27,
     "metadata": {},
     "output_type": "execute_result"
    }
   ],
   "source": [
    "\"A\".islower()"
   ]
  },
  {
   "cell_type": "code",
   "execution_count": 29,
   "id": "298350ed-061d-478b-9a3f-918047d3e62c",
   "metadata": {},
   "outputs": [
    {
     "data": {
      "text/plain": [
       "True"
      ]
     },
     "execution_count": 29,
     "metadata": {},
     "output_type": "execute_result"
    }
   ],
   "source": [
    "\"Fabri\".startswith(\"F\")"
   ]
  },
  {
   "cell_type": "code",
   "execution_count": 31,
   "id": "d01f1b68-6b32-44da-bbbc-da7e4fbb2f49",
   "metadata": {},
   "outputs": [],
   "source": [
    "name = \"fabri\""
   ]
  },
  {
   "cell_type": "code",
   "execution_count": 32,
   "id": "58977f6d-df5e-4534-aed0-c3abd07ee6d2",
   "metadata": {},
   "outputs": [
    {
     "data": {
      "text/plain": [
       "'hello fabri'"
      ]
     },
     "execution_count": 32,
     "metadata": {},
     "output_type": "execute_result"
    }
   ],
   "source": [
    "f\"hello {name}\""
   ]
  },
  {
   "cell_type": "code",
   "execution_count": 34,
   "id": "5a8a3721-1bd2-4dfc-81c6-db3c6874e68f",
   "metadata": {},
   "outputs": [
    {
     "data": {
      "text/plain": [
       "'hello Fabri'"
      ]
     },
     "execution_count": 34,
     "metadata": {},
     "output_type": "execute_result"
    }
   ],
   "source": [
    "f\"hello {'fabri'.capitalize()}\""
   ]
  },
  {
   "cell_type": "code",
   "execution_count": 36,
   "id": "b2abb6cc-3b20-4434-b2b0-bcb9bcf8ad32",
   "metadata": {},
   "outputs": [
    {
     "data": {
      "text/plain": [
       "['hello', 'world']"
      ]
     },
     "execution_count": 36,
     "metadata": {},
     "output_type": "execute_result"
    }
   ],
   "source": [
    "s.split(\".\")"
   ]
  },
  {
   "cell_type": "code",
   "execution_count": 38,
   "id": "022eb142-7bc8-440b-9b0b-ff76c9d3a1b8",
   "metadata": {},
   "outputs": [
    {
     "data": {
      "text/plain": [
       "[1, 'hello', [12]]"
      ]
     },
     "execution_count": 38,
     "metadata": {},
     "output_type": "execute_result"
    }
   ],
   "source": [
    "l = [1, \"hello\", [12]]\n",
    "l"
   ]
  },
  {
   "cell_type": "code",
   "execution_count": 39,
   "id": "b58fcbff-ad4e-4efa-bbba-2af04a5c2815",
   "metadata": {},
   "outputs": [],
   "source": [
    "l.append(\"course\")"
   ]
  },
  {
   "cell_type": "code",
   "execution_count": 40,
   "id": "6f538db4-4a92-4819-b8b1-2842938f3b14",
   "metadata": {},
   "outputs": [
    {
     "data": {
      "text/plain": [
       "[1, 'hello', [12], 'course']"
      ]
     },
     "execution_count": 40,
     "metadata": {},
     "output_type": "execute_result"
    }
   ],
   "source": [
    "l"
   ]
  },
  {
   "cell_type": "code",
   "execution_count": 41,
   "id": "e15e8101-834a-4a13-a7c7-45d8bbb2f35b",
   "metadata": {},
   "outputs": [],
   "source": [
    "l.append(12)"
   ]
  },
  {
   "cell_type": "code",
   "execution_count": 42,
   "id": "9a16ee04-173f-43c7-b258-1eddc40e6308",
   "metadata": {},
   "outputs": [
    {
     "data": {
      "text/plain": [
       "[1, 'hello', [12], 'course', 12]"
      ]
     },
     "execution_count": 42,
     "metadata": {},
     "output_type": "execute_result"
    }
   ],
   "source": [
    "l"
   ]
  },
  {
   "cell_type": "code",
   "execution_count": 43,
   "id": "f74fc178-a79b-41d9-af68-d42633aea355",
   "metadata": {},
   "outputs": [],
   "source": [
    "l.append([2,3,3,3])"
   ]
  },
  {
   "cell_type": "code",
   "execution_count": 44,
   "id": "80591ab4-6553-47fa-b46c-f265a1d875de",
   "metadata": {},
   "outputs": [
    {
     "data": {
      "text/plain": [
       "'heelloworld'"
      ]
     },
     "execution_count": 44,
     "metadata": {},
     "output_type": "execute_result"
    }
   ],
   "source": [
    "\"heello\" + \"world\""
   ]
  },
  {
   "cell_type": "code",
   "execution_count": 47,
   "id": "c3814ac1-3115-439c-854e-6fdfeec5d6b5",
   "metadata": {},
   "outputs": [],
   "source": [
    "l1 = [1,2]\n",
    "l2 = [3,4]"
   ]
  },
  {
   "cell_type": "code",
   "execution_count": 48,
   "id": "b68bfd75-db68-4b94-992e-083a1259f1a9",
   "metadata": {},
   "outputs": [
    {
     "data": {
      "text/plain": [
       "[1, 2, 3, 4]"
      ]
     },
     "execution_count": 48,
     "metadata": {},
     "output_type": "execute_result"
    }
   ],
   "source": [
    "l1 + l2"
   ]
  },
  {
   "cell_type": "code",
   "execution_count": 49,
   "id": "e19d3f19-5e06-448f-bac4-3c90b9576c3f",
   "metadata": {},
   "outputs": [],
   "source": [
    "l1.append(l2)"
   ]
  },
  {
   "cell_type": "code",
   "execution_count": 50,
   "id": "2482a515-8c87-48e7-b170-5be9ced8304a",
   "metadata": {},
   "outputs": [
    {
     "data": {
      "text/plain": [
       "[1, 2, [3, 4]]"
      ]
     },
     "execution_count": 50,
     "metadata": {},
     "output_type": "execute_result"
    }
   ],
   "source": [
    "l1"
   ]
  },
  {
   "cell_type": "code",
   "execution_count": 51,
   "id": "d730aedb-162c-4f70-b441-ceee085d4952",
   "metadata": {},
   "outputs": [
    {
     "data": {
      "text/plain": [
       "[1, 2, [3, 4]]"
      ]
     },
     "execution_count": 51,
     "metadata": {},
     "output_type": "execute_result"
    }
   ],
   "source": [
    "l1"
   ]
  },
  {
   "cell_type": "code",
   "execution_count": 52,
   "id": "c0c8e7a0-42bb-48e9-89a4-226f69252a8b",
   "metadata": {},
   "outputs": [
    {
     "data": {
      "text/plain": [
       "1"
      ]
     },
     "execution_count": 52,
     "metadata": {},
     "output_type": "execute_result"
    }
   ],
   "source": [
    "l1[0]"
   ]
  },
  {
   "cell_type": "code",
   "execution_count": 53,
   "id": "a34fe34e-7393-4e37-8c47-20f56f6e9104",
   "metadata": {},
   "outputs": [
    {
     "data": {
      "text/plain": [
       "[3, 4]"
      ]
     },
     "execution_count": 53,
     "metadata": {},
     "output_type": "execute_result"
    }
   ],
   "source": [
    "l1[-1]"
   ]
  },
  {
   "cell_type": "code",
   "execution_count": 58,
   "id": "a6c23b2a-6456-4aeb-b315-3ed7a6329e27",
   "metadata": {},
   "outputs": [
    {
     "data": {
      "text/plain": [
       "[2, 5, 8]"
      ]
     },
     "execution_count": 58,
     "metadata": {},
     "output_type": "execute_result"
    }
   ],
   "source": [
    "list(range(2, 10, 3))"
   ]
  },
  {
   "cell_type": "code",
   "execution_count": 59,
   "id": "76270ce6-a9ea-4b15-9d8d-5429392e1f72",
   "metadata": {},
   "outputs": [],
   "source": [
    "l = list(range(10))"
   ]
  },
  {
   "cell_type": "code",
   "execution_count": 60,
   "id": "2668eeb6-c0b2-4c91-b420-8a0f41a02312",
   "metadata": {},
   "outputs": [
    {
     "data": {
      "text/plain": [
       "[0, 1, 2, 3, 4, 5, 6, 7, 8, 9]"
      ]
     },
     "execution_count": 60,
     "metadata": {},
     "output_type": "execute_result"
    }
   ],
   "source": [
    "l"
   ]
  },
  {
   "cell_type": "code",
   "execution_count": 64,
   "id": "2ce143bf-0c21-45fc-afcb-25c614b15385",
   "metadata": {},
   "outputs": [
    {
     "data": {
      "text/plain": [
       "[2, 3, 4]"
      ]
     },
     "execution_count": 64,
     "metadata": {},
     "output_type": "execute_result"
    }
   ],
   "source": [
    "l[2: 5]"
   ]
  },
  {
   "cell_type": "code",
   "execution_count": 69,
   "id": "f506ba3c-9de5-4a58-a8ce-2bbbc07b6e54",
   "metadata": {},
   "outputs": [
    {
     "data": {
      "text/plain": [
       "[1, 3, 5]"
      ]
     },
     "execution_count": 69,
     "metadata": {},
     "output_type": "execute_result"
    }
   ],
   "source": [
    "l[1:6:2]"
   ]
  },
  {
   "cell_type": "code",
   "execution_count": 70,
   "id": "26ba8940-a566-47c9-b534-0252453f68b9",
   "metadata": {},
   "outputs": [
    {
     "data": {
      "text/plain": [
       "[0, 1, 2, 3, 4, 5, 6, 7, 8, 9]"
      ]
     },
     "execution_count": 70,
     "metadata": {},
     "output_type": "execute_result"
    }
   ],
   "source": [
    "l"
   ]
  },
  {
   "cell_type": "code",
   "execution_count": 71,
   "id": "97aa1428-e2b7-48d2-b6d5-8bdffe9012c9",
   "metadata": {},
   "outputs": [
    {
     "data": {
      "text/plain": [
       "[1, 1, 2]"
      ]
     },
     "execution_count": 71,
     "metadata": {},
     "output_type": "execute_result"
    }
   ],
   "source": [
    "l = [1,1,2]\n",
    "l"
   ]
  },
  {
   "cell_type": "code",
   "execution_count": 72,
   "id": "0e984004-18b4-49d0-8b32-9fb0bc7d7faf",
   "metadata": {},
   "outputs": [],
   "source": [
    "l.remove(1)"
   ]
  },
  {
   "cell_type": "code",
   "execution_count": 73,
   "id": "8e7699a4-1e90-46c7-b312-1dbffbf3ad6f",
   "metadata": {},
   "outputs": [
    {
     "data": {
      "text/plain": [
       "[1, 2]"
      ]
     },
     "execution_count": 73,
     "metadata": {},
     "output_type": "execute_result"
    }
   ],
   "source": [
    "l"
   ]
  },
  {
   "cell_type": "code",
   "execution_count": 74,
   "id": "064c82b2-8777-41d6-b55c-e78cb0e96091",
   "metadata": {},
   "outputs": [
    {
     "data": {
      "text/plain": [
       "2"
      ]
     },
     "execution_count": 74,
     "metadata": {},
     "output_type": "execute_result"
    }
   ],
   "source": [
    "l.pop()"
   ]
  },
  {
   "cell_type": "code",
   "execution_count": 75,
   "id": "0152cef8-7fc6-49c2-9c62-b4292f1d10e9",
   "metadata": {},
   "outputs": [
    {
     "data": {
      "text/plain": [
       "[1]"
      ]
     },
     "execution_count": 75,
     "metadata": {},
     "output_type": "execute_result"
    }
   ],
   "source": [
    "l"
   ]
  },
  {
   "cell_type": "code",
   "execution_count": 76,
   "id": "73c0767e-fc34-48d5-a7be-5457df03c539",
   "metadata": {},
   "outputs": [
    {
     "data": {
      "text/plain": [
       "1"
      ]
     },
     "execution_count": 76,
     "metadata": {},
     "output_type": "execute_result"
    }
   ],
   "source": [
    "l.pop()"
   ]
  },
  {
   "cell_type": "code",
   "execution_count": 77,
   "id": "edd5f4ed-3f07-410c-b2b1-eba884ca0f3f",
   "metadata": {},
   "outputs": [],
   "source": [
    "l = list(range(10))"
   ]
  },
  {
   "cell_type": "code",
   "execution_count": 78,
   "id": "456164cb-42da-46c8-9d50-448f1748149f",
   "metadata": {},
   "outputs": [
    {
     "data": {
      "text/plain": [
       "[0, 1, 2, 3, 4, 5, 6, 7, 8, 9]"
      ]
     },
     "execution_count": 78,
     "metadata": {},
     "output_type": "execute_result"
    }
   ],
   "source": [
    "l"
   ]
  },
  {
   "cell_type": "code",
   "execution_count": 79,
   "id": "0cd00a40-b1e3-4d6b-99db-a37dd66fd6c7",
   "metadata": {},
   "outputs": [],
   "source": [
    "x = 12"
   ]
  },
  {
   "cell_type": "code",
   "execution_count": 80,
   "id": "c6e2ce9b-5a68-4c0b-9d44-0282850aa0ed",
   "metadata": {},
   "outputs": [],
   "source": [
    "l.append(x)"
   ]
  },
  {
   "cell_type": "code",
   "execution_count": 81,
   "id": "58aa1cfc-d0c0-40d3-a5ba-86e4bba57c5d",
   "metadata": {},
   "outputs": [
    {
     "data": {
      "text/plain": [
       "[0, 1, 2, 3, 4, 5, 6, 7, 8, 9, 12]"
      ]
     },
     "execution_count": 81,
     "metadata": {},
     "output_type": "execute_result"
    }
   ],
   "source": [
    "l"
   ]
  },
  {
   "cell_type": "code",
   "execution_count": 82,
   "id": "48178b4f-3368-47b5-8145-f1e151ed15ed",
   "metadata": {},
   "outputs": [],
   "source": [
    "l.sort()"
   ]
  },
  {
   "cell_type": "code",
   "execution_count": 86,
   "id": "c2a1b784-4835-4201-bf92-429d4d7b6875",
   "metadata": {},
   "outputs": [
    {
     "data": {
      "text/plain": [
       "[12, 9, 8, 7, 6, 5, 4, 3, 2, 1, 0]"
      ]
     },
     "execution_count": 86,
     "metadata": {},
     "output_type": "execute_result"
    }
   ],
   "source": [
    "ll = l[::-1]\n",
    "ll"
   ]
  },
  {
   "cell_type": "code",
   "execution_count": 87,
   "id": "17208926-be49-4a5e-8925-25e1cbe85601",
   "metadata": {},
   "outputs": [],
   "source": [
    "ll.sort()"
   ]
  },
  {
   "cell_type": "code",
   "execution_count": 102,
   "id": "0f33f7db-7e17-42d2-ab82-3b499710f3b5",
   "metadata": {},
   "outputs": [
    {
     "data": {
      "text/plain": [
       "[0, 1, 2, 3, 4, 5, 6, 7, 8, 9, 12]"
      ]
     },
     "execution_count": 102,
     "metadata": {},
     "output_type": "execute_result"
    }
   ],
   "source": [
    "ll"
   ]
  },
  {
   "cell_type": "code",
   "execution_count": 103,
   "id": "3e12e366-3466-4383-acc6-518283774c0f",
   "metadata": {},
   "outputs": [],
   "source": [
    "ll.remove(1)"
   ]
  },
  {
   "cell_type": "code",
   "execution_count": 104,
   "id": "bc117fac-b505-4d16-b63d-600f67d9f881",
   "metadata": {},
   "outputs": [
    {
     "data": {
      "text/plain": [
       "[0, 2, 3, 4, 5, 6, 7, 8, 9, 12]"
      ]
     },
     "execution_count": 104,
     "metadata": {},
     "output_type": "execute_result"
    }
   ],
   "source": [
    "ll"
   ]
  },
  {
   "cell_type": "code",
   "execution_count": 105,
   "id": "754b0f59-41d4-42d7-949c-7e6ee1362a7c",
   "metadata": {},
   "outputs": [],
   "source": [
    "x = [3, 4]"
   ]
  },
  {
   "cell_type": "code",
   "execution_count": 106,
   "id": "69719e78-d841-4c63-a09c-ee582fd04053",
   "metadata": {},
   "outputs": [],
   "source": [
    "ll.append(x)"
   ]
  },
  {
   "cell_type": "code",
   "execution_count": 107,
   "id": "9cb29181-1341-4241-ac4b-667067d5e4a8",
   "metadata": {},
   "outputs": [
    {
     "data": {
      "text/plain": [
       "[0, 2, 3, 4, 5, 6, 7, 8, 9, 12, [3, 4]]"
      ]
     },
     "execution_count": 107,
     "metadata": {},
     "output_type": "execute_result"
    }
   ],
   "source": [
    "ll"
   ]
  },
  {
   "cell_type": "code",
   "execution_count": 108,
   "id": "5914a6c1-0019-43d5-a6cf-efbe546de250",
   "metadata": {},
   "outputs": [
    {
     "data": {
      "text/plain": [
       "[3, 4]"
      ]
     },
     "execution_count": 108,
     "metadata": {},
     "output_type": "execute_result"
    }
   ],
   "source": [
    "x"
   ]
  },
  {
   "cell_type": "code",
   "execution_count": 109,
   "id": "462212da-27f8-4502-8070-87f8b58a6ae0",
   "metadata": {},
   "outputs": [
    {
     "data": {
      "text/plain": [
       "['hello', 4]"
      ]
     },
     "execution_count": 109,
     "metadata": {},
     "output_type": "execute_result"
    }
   ],
   "source": [
    "x[0] = \"hello\"\n",
    "x"
   ]
  },
  {
   "cell_type": "code",
   "execution_count": 110,
   "id": "20f05885-0b66-4f57-b9a9-0d69a01353a7",
   "metadata": {},
   "outputs": [
    {
     "data": {
      "text/plain": [
       "[0, 2, 3, 4, 5, 6, 7, 8, 9, 12, ['hello', 4]]"
      ]
     },
     "execution_count": 110,
     "metadata": {},
     "output_type": "execute_result"
    }
   ],
   "source": [
    "ll"
   ]
  },
  {
   "cell_type": "code",
   "execution_count": 115,
   "id": "d2d11900-46b3-4c67-94a6-2c05b9f6264f",
   "metadata": {},
   "outputs": [],
   "source": [
    "y = \"ciao\""
   ]
  },
  {
   "cell_type": "code",
   "execution_count": 116,
   "id": "77fd2898-f0ac-49dd-ae4e-9603150da182",
   "metadata": {},
   "outputs": [],
   "source": [
    "ll.append(y)"
   ]
  },
  {
   "cell_type": "code",
   "execution_count": 117,
   "id": "07fe9bda-7635-4b36-be4c-9711ccb635bb",
   "metadata": {},
   "outputs": [
    {
     "data": {
      "text/plain": [
       "[0, 2, 3, 4, 5, 6, 7, 8, 9, 12, ['hello', 4], 'heelo', 'ciao']"
      ]
     },
     "execution_count": 117,
     "metadata": {},
     "output_type": "execute_result"
    }
   ],
   "source": [
    "ll"
   ]
  },
  {
   "cell_type": "code",
   "execution_count": 118,
   "id": "29a1e001-94a3-40c1-8466-7d6b74500845",
   "metadata": {},
   "outputs": [],
   "source": [
    "y = \"bella\""
   ]
  },
  {
   "cell_type": "code",
   "execution_count": 119,
   "id": "1b65612c-f27b-4fc3-85f1-e2dddcd8bc8f",
   "metadata": {},
   "outputs": [
    {
     "data": {
      "text/plain": [
       "[0, 2, 3, 4, 5, 6, 7, 8, 9, 12, ['hello', 4], 'heelo', 'ciao']"
      ]
     },
     "execution_count": 119,
     "metadata": {},
     "output_type": "execute_result"
    }
   ],
   "source": [
    "ll"
   ]
  },
  {
   "cell_type": "code",
   "execution_count": 1,
   "id": "cb1362d0-8d3e-475d-9476-51f971db45f5",
   "metadata": {},
   "outputs": [
    {
     "data": {
      "text/plain": [
       "'heellO'"
      ]
     },
     "execution_count": 1,
     "metadata": {},
     "output_type": "execute_result"
    }
   ],
   "source": [
    "\"heellO\""
   ]
  },
  {
   "cell_type": "code",
   "execution_count": 2,
   "id": "bda39e3e-f1c9-4625-8cc2-335e6d951d53",
   "metadata": {},
   "outputs": [
    {
     "name": "stdout",
     "output_type": "stream",
     "text": [
      "hellO\n"
     ]
    }
   ],
   "source": [
    "print(\"hellO\")"
   ]
  },
  {
   "cell_type": "code",
   "execution_count": null,
   "id": "9b92a34a-b174-43ae-8afa-d49913df88c1",
   "metadata": {},
   "outputs": [],
   "source": []
  },
  {
   "cell_type": "code",
   "execution_count": null,
   "id": "b28906ac-314d-4741-97f3-2113f9f5dc1a",
   "metadata": {},
   "outputs": [],
   "source": []
  },
  {
   "cell_type": "code",
   "execution_count": 6,
   "id": "e76b22c8-c530-4c71-95f1-dfb111dd8206",
   "metadata": {},
   "outputs": [],
   "source": [
    "book = \"Jungle\"\n",
    "author = \"Dr. Maquiavelo\""
   ]
  },
  {
   "cell_type": "code",
   "execution_count": 7,
   "id": "8b055c7f-5843-4623-a3ec-1a407c79a1ca",
   "metadata": {},
   "outputs": [
    {
     "data": {
      "text/plain": [
       "'dr. maquiavelo'"
      ]
     },
     "execution_count": 7,
     "metadata": {},
     "output_type": "execute_result"
    }
   ],
   "source": [
    "author.lower()"
   ]
  },
  {
   "cell_type": "code",
   "execution_count": 14,
   "id": "342cf641-d433-40d8-a829-7b353680270f",
   "metadata": {},
   "outputs": [
    {
     "data": {
      "text/plain": [
       "'dr-maquiavelo'"
      ]
     },
     "execution_count": 14,
     "metadata": {},
     "output_type": "execute_result"
    }
   ],
   "source": [
    "author = author.replace(\" \", \"-\")\n",
    "author = author.replace(\".\", \"\")\n",
    "author = author.lower()\n",
    "author"
   ]
  },
  {
   "cell_type": "code",
   "execution_count": 12,
   "id": "37b81f13-784f-4a8b-bdc0-c799374243db",
   "metadata": {},
   "outputs": [
    {
     "data": {
      "text/plain": [
       "'dr-maquiavelo'"
      ]
     },
     "execution_count": 12,
     "metadata": {},
     "output_type": "execute_result"
    }
   ],
   "source": []
  },
  {
   "cell_type": "code",
   "execution_count": 16,
   "id": "09bedf6b-a641-4388-95b0-8f29084c53b9",
   "metadata": {},
   "outputs": [],
   "source": [
    "clean_author = author.replace(\" \", \"-\").replace(\".\", \"\").lower()"
   ]
  },
  {
   "cell_type": "code",
   "execution_count": 19,
   "id": "689768a0-f722-4891-af43-90d67e5f6e41",
   "metadata": {},
   "outputs": [],
   "source": [
    "clean_author = (\n",
    "    author\n",
    "    .replace(\" \", \"-\")\n",
    "    .replace(\".\", \"\")\n",
    "    .lower()\n",
    ")"
   ]
  },
  {
   "cell_type": "code",
   "execution_count": 17,
   "id": "5f57b467-f5f5-483a-9f67-02ec88d2184a",
   "metadata": {},
   "outputs": [
    {
     "data": {
      "text/plain": [
       "'My book is Jungle by dr-maquiavelo'"
      ]
     },
     "execution_count": 17,
     "metadata": {},
     "output_type": "execute_result"
    }
   ],
   "source": [
    "f\"My book is {book} by {clean_author}\""
   ]
  },
  {
   "cell_type": "code",
   "execution_count": null,
   "id": "a8e586cc-6ac2-4598-ba78-4e8f43c6f9dc",
   "metadata": {},
   "outputs": [],
   "source": [
    "\"Dr. Maquiavelo\" --> \"dr-maquiavelo\""
   ]
  },
  {
   "cell_type": "code",
   "execution_count": 22,
   "id": "7886569d-bcc1-404d-96ca-e9d0bd87991e",
   "metadata": {},
   "outputs": [],
   "source": [
    "t = tuple([1,23] + [2,3])"
   ]
  },
  {
   "cell_type": "code",
   "execution_count": 24,
   "id": "704cacef-3a4a-4639-a316-aac66fbd587c",
   "metadata": {},
   "outputs": [
    {
     "data": {
      "text/plain": [
       "(2, 3)"
      ]
     },
     "execution_count": 24,
     "metadata": {},
     "output_type": "execute_result"
    }
   ],
   "source": [
    "t[2:]"
   ]
  },
  {
   "cell_type": "code",
   "execution_count": 26,
   "id": "21a29a6f-caed-4e4d-83f9-c2af6f28233e",
   "metadata": {},
   "outputs": [
    {
     "data": {
      "text/plain": [
       "(1, 23, 2, 3, 1, 23, 2, 3)"
      ]
     },
     "execution_count": 26,
     "metadata": {},
     "output_type": "execute_result"
    }
   ],
   "source": [
    "mytuple = t + t\n",
    "mytuple"
   ]
  },
  {
   "cell_type": "code",
   "execution_count": 32,
   "id": "0a33892d-64c3-4bed-bb67-67b3ed615345",
   "metadata": {},
   "outputs": [],
   "source": [
    "myset = set([1,2,3,4,5, 53, \"a\", 9])"
   ]
  },
  {
   "cell_type": "code",
   "execution_count": 33,
   "id": "8474f6c7-8779-4a9f-89f7-c2d40e5f98ed",
   "metadata": {},
   "outputs": [
    {
     "ename": "TypeError",
     "evalue": "'set' object is not subscriptable",
     "output_type": "error",
     "traceback": [
      "\u001b[0;31m---------------------------------------------------------------------------\u001b[0m",
      "\u001b[0;31mTypeError\u001b[0m                                 Traceback (most recent call last)",
      "Cell \u001b[0;32mIn[33], line 1\u001b[0m\n\u001b[0;32m----> 1\u001b[0m \u001b[43mmyset\u001b[49m\u001b[43m[\u001b[49m\u001b[38;5;241;43m3\u001b[39;49m\u001b[43m]\u001b[49m\n",
      "\u001b[0;31mTypeError\u001b[0m: 'set' object is not subscriptable"
     ]
    }
   ],
   "source": [
    "myset[3]"
   ]
  },
  {
   "cell_type": "code",
   "execution_count": 34,
   "id": "85c73ceb-814a-4d82-ab42-eba68ede23da",
   "metadata": {},
   "outputs": [
    {
     "data": {
      "text/plain": [
       "{'a': 1, 'b': 2}"
      ]
     },
     "execution_count": 34,
     "metadata": {},
     "output_type": "execute_result"
    }
   ],
   "source": [
    "d = {\n",
    "    \"a\": 1,\n",
    "    \"b\": 2\n",
    "}\n",
    "d"
   ]
  },
  {
   "cell_type": "code",
   "execution_count": 35,
   "id": "4b4f127f-6300-4e60-b187-4263f892394b",
   "metadata": {},
   "outputs": [],
   "source": [
    "d[\"a\"] = 12"
   ]
  },
  {
   "cell_type": "code",
   "execution_count": 36,
   "id": "436e53a9-995c-4c4e-823d-cfba239f5b30",
   "metadata": {},
   "outputs": [
    {
     "data": {
      "text/plain": [
       "{'a': 12, 'b': 2}"
      ]
     },
     "execution_count": 36,
     "metadata": {},
     "output_type": "execute_result"
    }
   ],
   "source": [
    "d"
   ]
  },
  {
   "cell_type": "code",
   "execution_count": 37,
   "id": "dfe8d309-faf1-4c8e-bb43-2c1d243d2907",
   "metadata": {},
   "outputs": [
    {
     "data": {
      "text/plain": [
       "{'a': 12, 'b': 2, 'iamnew': 'thereyougo'}"
      ]
     },
     "execution_count": 37,
     "metadata": {},
     "output_type": "execute_result"
    }
   ],
   "source": [
    "d[\"iamnew\"] = \"thereyougo\"\n",
    "d"
   ]
  },
  {
   "cell_type": "code",
   "execution_count": 38,
   "id": "e1b424d8-93d4-4ff7-aafe-aa8df1e96146",
   "metadata": {},
   "outputs": [],
   "source": [
    "d.update({\"tatia\": 123})"
   ]
  },
  {
   "cell_type": "code",
   "execution_count": 39,
   "id": "5c8bb886-0913-45fc-85b1-ebe4bf151193",
   "metadata": {},
   "outputs": [
    {
     "data": {
      "text/plain": [
       "{'a': 12, 'b': 2, 'iamnew': 'thereyougo', 'tatia': 123}"
      ]
     },
     "execution_count": 39,
     "metadata": {},
     "output_type": "execute_result"
    }
   ],
   "source": [
    "d"
   ]
  },
  {
   "cell_type": "code",
   "execution_count": 40,
   "id": "c1543cb4-bda5-4d83-a32a-16b432a10136",
   "metadata": {},
   "outputs": [
    {
     "data": {
      "text/plain": [
       "[('one', 1), ('two', 2), ('three', 3)]"
      ]
     },
     "execution_count": 40,
     "metadata": {},
     "output_type": "execute_result"
    }
   ],
   "source": [
    "items = [\n",
    "    (\"one\", 1),\n",
    "    (\"two\", 2),\n",
    "    (\"three\", 3),\n",
    "]\n",
    "items"
   ]
  },
  {
   "cell_type": "code",
   "execution_count": 41,
   "id": "6ed2da48-b155-4d10-9f97-ce08c70fcf31",
   "metadata": {},
   "outputs": [
    {
     "data": {
      "text/plain": [
       "{'one': 1, 'two': 2, 'three': 3}"
      ]
     },
     "execution_count": 41,
     "metadata": {},
     "output_type": "execute_result"
    }
   ],
   "source": [
    "dict(items)"
   ]
  },
  {
   "cell_type": "code",
   "execution_count": 43,
   "id": "72d4dc79-de92-459f-ac81-434959be2bd5",
   "metadata": {},
   "outputs": [
    {
     "data": {
      "text/plain": [
       "[('a', 12), ('b', 2), ('iamnew', 'thereyougo'), ('tatia', 123)]"
      ]
     },
     "execution_count": 43,
     "metadata": {},
     "output_type": "execute_result"
    }
   ],
   "source": [
    "list(d.items())"
   ]
  },
  {
   "cell_type": "code",
   "execution_count": 47,
   "id": "160442b3-8a38-4144-a9eb-28f7abf401cb",
   "metadata": {},
   "outputs": [
    {
     "name": "stdout",
     "output_type": "stream",
     "text": [
      "('a', 12)\n",
      "('b', 2)\n",
      "('iamnew', 'thereyougo')\n",
      "('tatia', 123)\n"
     ]
    }
   ],
   "source": [
    "for item in d.items():\n",
    "    print(item)"
   ]
  },
  {
   "cell_type": "code",
   "execution_count": 48,
   "id": "14008ed9-a640-4c00-bed1-b452f9ea801f",
   "metadata": {},
   "outputs": [
    {
     "name": "stdout",
     "output_type": "stream",
     "text": [
      "a --> 12\n",
      "b --> 2\n",
      "iamnew --> thereyougo\n",
      "tatia --> 123\n"
     ]
    }
   ],
   "source": [
    "for k, v in d.items():\n",
    "    print(k, \"-->\", v)"
   ]
  },
  {
   "cell_type": "code",
   "execution_count": 49,
   "id": "c36a8020-9ebe-43d0-a9e5-516690f970e2",
   "metadata": {},
   "outputs": [
    {
     "name": "stdout",
     "output_type": "stream",
     "text": [
      "a\n",
      "b\n",
      "iamnew\n",
      "tatia\n"
     ]
    }
   ],
   "source": [
    "for k in d.keys():print(k)"
   ]
  },
  {
   "cell_type": "code",
   "execution_count": 50,
   "id": "ef5ae99e-0752-49c2-8bbc-95c1ae474ac2",
   "metadata": {},
   "outputs": [
    {
     "name": "stdout",
     "output_type": "stream",
     "text": [
      "12\n",
      "2\n",
      "thereyougo\n",
      "123\n"
     ]
    }
   ],
   "source": [
    "for k in d.values():\n",
    "    print(k)"
   ]
  },
  {
   "cell_type": "code",
   "execution_count": 51,
   "id": "5b433770-3d4f-48ed-8d2b-ed7033b55aeb",
   "metadata": {},
   "outputs": [
    {
     "data": {
      "text/plain": [
       "True"
      ]
     },
     "execution_count": 51,
     "metadata": {},
     "output_type": "execute_result"
    }
   ],
   "source": [
    "\"tatia\" in d"
   ]
  },
  {
   "cell_type": "code",
   "execution_count": 52,
   "id": "47d72123-c508-4666-803a-eb9c550adb57",
   "metadata": {},
   "outputs": [
    {
     "data": {
      "text/plain": [
       "False"
      ]
     },
     "execution_count": 52,
     "metadata": {},
     "output_type": "execute_result"
    }
   ],
   "source": [
    "\"fab\" in d"
   ]
  },
  {
   "cell_type": "code",
   "execution_count": 53,
   "id": "baa444ab-d5ba-4b1c-a718-5e0b6df167b5",
   "metadata": {},
   "outputs": [
    {
     "data": {
      "text/plain": [
       "{'a': 12, 'b': 2, 'iamnew': 'thereyougo', 'tatia': 123}"
      ]
     },
     "execution_count": 53,
     "metadata": {},
     "output_type": "execute_result"
    }
   ],
   "source": [
    "d"
   ]
  },
  {
   "cell_type": "code",
   "execution_count": 54,
   "id": "64825678-638d-43a6-aad5-abae3003737a",
   "metadata": {},
   "outputs": [],
   "source": [
    "d[\"newkey\"] = [1,2,2,3]"
   ]
  },
  {
   "cell_type": "code",
   "execution_count": 55,
   "id": "59268ce4-f70a-4c3f-be4a-5beda2b9d883",
   "metadata": {},
   "outputs": [
    {
     "data": {
      "text/plain": [
       "{'a': 12, 'b': 2, 'iamnew': 'thereyougo', 'tatia': 123, 'newkey': [1, 2, 2, 3]}"
      ]
     },
     "execution_count": 55,
     "metadata": {},
     "output_type": "execute_result"
    }
   ],
   "source": [
    "d"
   ]
  },
  {
   "cell_type": "code",
   "execution_count": 56,
   "id": "d26dfead-dae4-44c6-8d53-d0b05e4095cc",
   "metadata": {},
   "outputs": [],
   "source": [
    "d.update({213213: \"sadfsdf\"})"
   ]
  },
  {
   "cell_type": "code",
   "execution_count": 57,
   "id": "c441afbd-18c4-4b33-8dc2-d538412e1bd4",
   "metadata": {},
   "outputs": [
    {
     "data": {
      "text/plain": [
       "{'a': 12,\n",
       " 'b': 2,\n",
       " 'iamnew': 'thereyougo',\n",
       " 'tatia': 123,\n",
       " 'newkey': [1, 2, 2, 3],\n",
       " 213213: 'sadfsdf'}"
      ]
     },
     "execution_count": 57,
     "metadata": {},
     "output_type": "execute_result"
    }
   ],
   "source": [
    "d"
   ]
  },
  {
   "cell_type": "code",
   "execution_count": 58,
   "id": "37ea9099-28bd-4ddd-8265-0b4684de9baf",
   "metadata": {},
   "outputs": [
    {
     "data": {
      "text/plain": [
       "{'a': 12,\n",
       " 'b': 2,\n",
       " 'iamnew': 'thereyougo',\n",
       " 'tatia': 123,\n",
       " 'newkey': [1, 2, 2, 3],\n",
       " 213213: 'sadfsdf'}"
      ]
     },
     "execution_count": 58,
     "metadata": {},
     "output_type": "execute_result"
    }
   ],
   "source": [
    "d"
   ]
  },
  {
   "cell_type": "code",
   "execution_count": 59,
   "id": "93244760-094c-4c92-99ee-d97df3242851",
   "metadata": {},
   "outputs": [
    {
     "data": {
      "text/plain": [
       "{'a': 12,\n",
       " 'b': 2,\n",
       " 'iamnew': 'thereyougo',\n",
       " 'tatia': 123,\n",
       " 'newkey': [1, 2, 2, 3],\n",
       " 213213: 'sadfsdf',\n",
       " 'likethis': 1232}"
      ]
     },
     "execution_count": 59,
     "metadata": {},
     "output_type": "execute_result"
    }
   ],
   "source": [
    "d | {\"likethis\": 1232}"
   ]
  },
  {
   "cell_type": "markdown",
   "id": "4bff5642-2271-4aad-862b-01064150d0d8",
   "metadata": {},
   "source": [
    "## TODO:\n",
    "- 9\n",
    "- 10\n",
    "- 11\n",
    "- 13\n",
    "\n",
    "![](https://media1.giphy.com/media/v1.Y2lkPTc5MGI3NjExc2FwbzhkZGdtZDRtYnV1eDFqaGFjNXQ1dGEwdXRjajZvNWo3cWhxYiZlcD12MV9pbnRlcm5hbF9naWZfYnlfaWQmY3Q9Zw/SiEF80pqzJHhM3dOw0/giphy.webp)\n"
   ]
  },
  {
   "cell_type": "code",
   "execution_count": 60,
   "id": "3ac28d1a-a187-4d23-b5e8-da0c5d44bcd0",
   "metadata": {},
   "outputs": [
    {
     "name": "stdout",
     "output_type": "stream",
     "text": [
      "h\n",
      "e\n",
      "l\n",
      "l\n",
      "o\n"
     ]
    }
   ],
   "source": [
    "for item in \"hello\":\n",
    "    print(item)"
   ]
  },
  {
   "cell_type": "code",
   "execution_count": 65,
   "id": "609d7e8c-49e5-4bec-b97e-34a76ef7e56a",
   "metadata": {},
   "outputs": [
    {
     "ename": "TypeError",
     "evalue": "'set' object is not subscriptable",
     "output_type": "error",
     "traceback": [
      "\u001b[0;31m---------------------------------------------------------------------------\u001b[0m",
      "\u001b[0;31mTypeError\u001b[0m                                 Traceback (most recent call last)",
      "Cell \u001b[0;32mIn[65], line 1\u001b[0m\n\u001b[0;32m----> 1\u001b[0m \u001b[38;5;28;01mfor\u001b[39;00m item \u001b[38;5;129;01min\u001b[39;00m \u001b[43mmyset\u001b[49m\u001b[43m[\u001b[49m\u001b[43m:\u001b[49m\u001b[38;5;241;43m2\u001b[39;49m\u001b[43m]\u001b[49m:\n\u001b[1;32m      2\u001b[0m     \u001b[38;5;28mprint\u001b[39m(item)\n",
      "\u001b[0;31mTypeError\u001b[0m: 'set' object is not subscriptable"
     ]
    }
   ],
   "source": [
    "for item in myset:\n",
    "    print(item)"
   ]
  },
  {
   "cell_type": "code",
   "execution_count": null,
   "id": "c1ed14cb-7283-4e7e-afca-bb3190507de6",
   "metadata": {},
   "outputs": [],
   "source": []
  },
  {
   "cell_type": "code",
   "execution_count": 73,
   "id": "f97dfd9b-1dc0-4f5d-b193-aa516333f18e",
   "metadata": {},
   "outputs": [
    {
     "data": {
      "text/plain": [
       "('hh', 'ber', 'chi')"
      ]
     },
     "execution_count": 73,
     "metadata": {},
     "output_type": "execute_result"
    }
   ],
   "source": [
    "cities = (\"hh\", \"ber\", \"chi\")\n",
    "cities"
   ]
  },
  {
   "cell_type": "code",
   "execution_count": 83,
   "id": "b38a7e7f-0db8-4a84-9e28-b6c81fd38784",
   "metadata": {},
   "outputs": [
    {
     "data": {
      "text/plain": [
       "('hh', 'chi')"
      ]
     },
     "execution_count": 83,
     "metadata": {},
     "output_type": "execute_result"
    }
   ],
   "source": [
    "(cities[0],\n",
    " cities[-1]\n",
    ")"
   ]
  },
  {
   "cell_type": "code",
   "execution_count": null,
   "id": "27d00a75-c824-4b4e-899f-8345045d7f2f",
   "metadata": {},
   "outputs": [],
   "source": []
  },
  {
   "cell_type": "code",
   "execution_count": null,
   "id": "34c783d7-7fae-4a54-b2b6-0a24b668dc20",
   "metadata": {},
   "outputs": [],
   "source": []
  },
  {
   "cell_type": "code",
   "execution_count": 1,
   "id": "0565e3c7-6ae2-45e5-a9fb-96e86258707b",
   "metadata": {},
   "outputs": [],
   "source": [
    "my_fruits = {\"apple\": 1, \"pear\": 12}\n",
    "new_dict = {}"
   ]
  },
  {
   "cell_type": "code",
   "execution_count": 2,
   "id": "ea023e88-ad0c-47db-b1e4-4e47e7b9db1f",
   "metadata": {},
   "outputs": [
    {
     "data": {
      "text/plain": [
       "{1: 'apple', 12: 'pear'}"
      ]
     },
     "execution_count": 2,
     "metadata": {},
     "output_type": "execute_result"
    }
   ],
   "source": [
    "for k, v in my_fruits.items():\n",
    "    new_dict[v] = k\n",
    "\n",
    "new_dict"
   ]
  },
  {
   "cell_type": "code",
   "execution_count": 3,
   "id": "ecdd9354-515e-4557-896e-f84a78383b6c",
   "metadata": {},
   "outputs": [],
   "source": [
    "colors = {\n",
    "    \"watermelon\": \"red\", \"strawberry\": \"red\"\n",
    "}\n"
   ]
  },
  {
   "cell_type": "code",
   "execution_count": 4,
   "id": "0d5d8291-ea0a-4d77-bd5d-98e8f3487d10",
   "metadata": {},
   "outputs": [
    {
     "data": {
      "text/plain": [
       "{'watermelon': 'red', 'strawberry': 'red'}"
      ]
     },
     "execution_count": 4,
     "metadata": {},
     "output_type": "execute_result"
    }
   ],
   "source": [
    "colors"
   ]
  },
  {
   "cell_type": "code",
   "execution_count": null,
   "id": "9ceb5a2d-3265-4000-b41e-8927b3f379f7",
   "metadata": {},
   "outputs": [],
   "source": []
  },
  {
   "cell_type": "code",
   "execution_count": null,
   "id": "59ba8140-2e7e-48b2-a6ea-ca8a3085f1b9",
   "metadata": {},
   "outputs": [],
   "source": []
  },
  {
   "cell_type": "code",
   "execution_count": null,
   "id": "3b11495f-78f6-46a8-9d9c-e104dd835960",
   "metadata": {},
   "outputs": [],
   "source": []
  },
  {
   "cell_type": "code",
   "execution_count": null,
   "id": "f5d4136f-ecb0-4a6e-b941-7a51ec71d0fd",
   "metadata": {},
   "outputs": [],
   "source": []
  },
  {
   "cell_type": "code",
   "execution_count": null,
   "id": "c1026154-5926-457c-9352-1aabce3b1627",
   "metadata": {},
   "outputs": [],
   "source": []
  },
  {
   "cell_type": "code",
   "execution_count": 6,
   "id": "5d4114dc-1652-48c2-b697-ebdb63499273",
   "metadata": {},
   "outputs": [
    {
     "data": {
      "text/plain": [
       "('hh', 'ber', 'chi', 'han', 'bre', 'sylt', 'mun')"
      ]
     },
     "execution_count": 6,
     "metadata": {},
     "output_type": "execute_result"
    }
   ],
   "source": [
    "cities = (\"hh\", \"ber\", \"chi\", \"han\", \"bre\", \"sylt\", \"mun\")\n",
    "cities"
   ]
  },
  {
   "cell_type": "code",
   "execution_count": 8,
   "id": "4708f168-aa21-479b-9016-ca9a68c05ef9",
   "metadata": {},
   "outputs": [
    {
     "data": {
      "text/plain": [
       "('chi', 'han', 'bre')"
      ]
     },
     "execution_count": 8,
     "metadata": {},
     "output_type": "execute_result"
    }
   ],
   "source": [
    "cities[2:5]"
   ]
  },
  {
   "cell_type": "code",
   "execution_count": 10,
   "id": "8fcd2cf4-c68e-433c-bdeb-5afa051f6cd7",
   "metadata": {},
   "outputs": [
    {
     "name": "stdout",
     "output_type": "stream",
     "text": [
      "0\n",
      "1\n",
      "2\n",
      "3\n",
      "4\n",
      "5\n",
      "6\n",
      "7\n",
      "8\n",
      "9\n",
      "10\n",
      "11\n",
      "12\n",
      "13\n",
      "14\n",
      "15\n",
      "16\n",
      "17\n",
      "18\n"
     ]
    }
   ],
   "source": [
    "for i in range(19): print(i)"
   ]
  },
  {
   "cell_type": "code",
   "execution_count": 12,
   "id": "e37bca9e-9b86-4315-be54-568898d05de2",
   "metadata": {},
   "outputs": [],
   "source": [
    "my_fruits[\"ananas\"] =  123\n",
    "my_fruits[\"banana\"] =  123"
   ]
  },
  {
   "cell_type": "code",
   "execution_count": 13,
   "id": "a48205a1-7e0c-46f6-80d9-2ca051636b0b",
   "metadata": {},
   "outputs": [
    {
     "data": {
      "text/plain": [
       "{'apple': 1, 'pear': 12, 'ananas': 123, 'banana': 123}"
      ]
     },
     "execution_count": 13,
     "metadata": {},
     "output_type": "execute_result"
    }
   ],
   "source": [
    "my_fruits"
   ]
  },
  {
   "cell_type": "code",
   "execution_count": 23,
   "id": "a65c7f79-5e07-4df5-acb8-e0380204d737",
   "metadata": {},
   "outputs": [
    {
     "data": {
      "text/plain": [
       "{0: 'apple', 1: 'pear', 2: 'ananas', 3: 'banana'}"
      ]
     },
     "execution_count": 23,
     "metadata": {},
     "output_type": "execute_result"
    }
   ],
   "source": [
    "dict(enumerate(my_fruits))"
   ]
  },
  {
   "cell_type": "code",
   "execution_count": 25,
   "id": "e9187950-735a-4734-8833-0938520652c0",
   "metadata": {},
   "outputs": [],
   "source": [
    "l = [1,2,3,4]"
   ]
  },
  {
   "cell_type": "code",
   "execution_count": 26,
   "id": "3d8e0181-f72a-47cb-b0ad-52e92dacc419",
   "metadata": {},
   "outputs": [
    {
     "data": {
      "text/plain": [
       "4"
      ]
     },
     "execution_count": 26,
     "metadata": {},
     "output_type": "execute_result"
    }
   ],
   "source": [
    "l.pop()"
   ]
  },
  {
   "cell_type": "code",
   "execution_count": 27,
   "id": "d359106f-612e-4f08-b46e-886affde89de",
   "metadata": {},
   "outputs": [
    {
     "data": {
      "text/plain": [
       "3"
      ]
     },
     "execution_count": 27,
     "metadata": {},
     "output_type": "execute_result"
    }
   ],
   "source": [
    "l.pop()"
   ]
  },
  {
   "cell_type": "code",
   "execution_count": 28,
   "id": "0843a1a4-4a7c-425f-8936-fc8334c1e5f2",
   "metadata": {},
   "outputs": [],
   "source": [
    "x = l.pop()"
   ]
  },
  {
   "cell_type": "code",
   "execution_count": 29,
   "id": "ddc2e1b7-eece-41cc-b604-8976cd84466c",
   "metadata": {},
   "outputs": [
    {
     "data": {
      "text/plain": [
       "2"
      ]
     },
     "execution_count": 29,
     "metadata": {},
     "output_type": "execute_result"
    }
   ],
   "source": [
    "x"
   ]
  },
  {
   "cell_type": "code",
   "execution_count": 30,
   "id": "7f0984eb-83ef-478e-8575-153915b8587a",
   "metadata": {},
   "outputs": [
    {
     "data": {
      "text/plain": [
       "[1]"
      ]
     },
     "execution_count": 30,
     "metadata": {},
     "output_type": "execute_result"
    }
   ],
   "source": [
    "l"
   ]
  },
  {
   "cell_type": "code",
   "execution_count": 34,
   "id": "91ca33e2-cb11-4376-b3ff-496fa6169b8e",
   "metadata": {},
   "outputs": [],
   "source": [
    "if []:\n",
    "    print(\"hello\")"
   ]
  },
  {
   "cell_type": "code",
   "execution_count": 37,
   "id": "bf031637-36a4-413a-8788-8df61a9b846c",
   "metadata": {},
   "outputs": [
    {
     "data": {
      "text/plain": [
       "1"
      ]
     },
     "execution_count": 37,
     "metadata": {},
     "output_type": "execute_result"
    }
   ],
   "source": [
    "l.pop()"
   ]
  },
  {
   "cell_type": "code",
   "execution_count": 38,
   "id": "d8a8a914-72df-4cbc-b98d-2f4e568ef5e7",
   "metadata": {},
   "outputs": [
    {
     "data": {
      "text/plain": [
       "[]"
      ]
     },
     "execution_count": 38,
     "metadata": {},
     "output_type": "execute_result"
    }
   ],
   "source": [
    "l"
   ]
  },
  {
   "cell_type": "code",
   "execution_count": 39,
   "id": "d6252407-5727-4fe0-83ce-1b902773ca62",
   "metadata": {},
   "outputs": [],
   "source": [
    "if l:\n",
    "    print(\"hello\")"
   ]
  },
  {
   "cell_type": "code",
   "execution_count": 35,
   "id": "02e254a7-1b57-490a-9094-10b7cb67b20f",
   "metadata": {},
   "outputs": [
    {
     "name": "stdout",
     "output_type": "stream",
     "text": [
      "hello\n"
     ]
    }
   ],
   "source": [
    "if len(l) > 0:\n",
    "    print(\"hello\")"
   ]
  },
  {
   "cell_type": "code",
   "execution_count": 40,
   "id": "e72a5267-b49f-49a6-b77d-8231d7db1f62",
   "metadata": {},
   "outputs": [
    {
     "data": {
      "text/plain": [
       "[]"
      ]
     },
     "execution_count": 40,
     "metadata": {},
     "output_type": "execute_result"
    }
   ],
   "source": [
    "l"
   ]
  },
  {
   "cell_type": "code",
   "execution_count": 41,
   "id": "2e18bc26-fad9-4bc9-90bb-a5e90b630549",
   "metadata": {},
   "outputs": [
    {
     "ename": "IndexError",
     "evalue": "list index out of range",
     "output_type": "error",
     "traceback": [
      "\u001b[0;31m---------------------------------------------------------------------------\u001b[0m",
      "\u001b[0;31mIndexError\u001b[0m                                Traceback (most recent call last)",
      "Cell \u001b[0;32mIn[41], line 1\u001b[0m\n\u001b[0;32m----> 1\u001b[0m \u001b[43ml\u001b[49m\u001b[43m[\u001b[49m\u001b[38;5;241;43m100\u001b[39;49m\u001b[43m]\u001b[49m\n",
      "\u001b[0;31mIndexError\u001b[0m: list index out of range"
     ]
    }
   ],
   "source": [
    "l[100]"
   ]
  },
  {
   "cell_type": "code",
   "execution_count": 44,
   "id": "173c3e4d-6ce9-45c4-916b-4ab864ae42a3",
   "metadata": {},
   "outputs": [
    {
     "ename": "AssertionError",
     "evalue": "",
     "output_type": "error",
     "traceback": [
      "\u001b[0;31m---------------------------------------------------------------------------\u001b[0m",
      "\u001b[0;31mAssertionError\u001b[0m                            Traceback (most recent call last)",
      "Cell \u001b[0;32mIn[44], line 1\u001b[0m\n\u001b[0;32m----> 1\u001b[0m \u001b[38;5;28;01massert\u001b[39;00m []\n",
      "\u001b[0;31mAssertionError\u001b[0m: "
     ]
    }
   ],
   "source": [
    "assert []"
   ]
  },
  {
   "cell_type": "code",
   "execution_count": 45,
   "id": "df80feb9-04ad-406c-9569-a88280c53ce5",
   "metadata": {},
   "outputs": [],
   "source": [
    "ages = {\n",
    "    \"mark\": 12,\n",
    "    \"lua\": 32,\n",
    "    \"martin\": 8,\n",
    "    \"mette\": 41,\n",
    "    \"malte\": 27\n",
    "}"
   ]
  },
  {
   "cell_type": "code",
   "execution_count": 46,
   "id": "1f6b95f7-458b-4bfa-adf2-d853ce762821",
   "metadata": {},
   "outputs": [],
   "source": [
    "names = \"mark\", \"lua\", \"juan\", \"marco\", \"anna\""
   ]
  },
  {
   "cell_type": "code",
   "execution_count": null,
   "id": "051c7f7b-5333-486b-8f25-c647f301a9b8",
   "metadata": {},
   "outputs": [],
   "source": []
  },
  {
   "cell_type": "code",
   "execution_count": 52,
   "id": "5e2c6608-e168-4e0b-8ce0-e1f4e7a90494",
   "metadata": {},
   "outputs": [
    {
     "name": "stdout",
     "output_type": "stream",
     "text": [
      "mark 12\n",
      "lua 32\n",
      "name: juan is missing\n",
      "name: marco is missing\n",
      "name: anna is missing\n",
      "['mark', 'lua']\n",
      "3\n"
     ]
    }
   ],
   "source": [
    "n_not_found = 0\n",
    "found = []\n",
    "\n",
    "for name in names:\n",
    "    try:\n",
    "        age = ages[name] \n",
    "        found.append(name)\n",
    "        print(name, age)\n",
    "    except KeyError:\n",
    "        print(f\"name: {name} is missing\")\n",
    "        n_not_found += 1\n",
    "        \n",
    "print(found)\n",
    "print(n_not_found)"
   ]
  },
  {
   "cell_type": "code",
   "execution_count": 53,
   "id": "e6f7344e-369a-48c4-ae62-347f5ddab319",
   "metadata": {},
   "outputs": [
    {
     "data": {
      "text/plain": [
       "<function print(*args, sep=' ', end='\\n', file=None, flush=False)>"
      ]
     },
     "execution_count": 53,
     "metadata": {},
     "output_type": "execute_result"
    }
   ],
   "source": []
  },
  {
   "cell_type": "code",
   "execution_count": 14,
   "id": "f706f188-cd3c-411a-be06-8515453e6ac8",
   "metadata": {},
   "outputs": [],
   "source": [
    "import numpy as np\n",
    "from numpy.random import uniform"
   ]
  },
  {
   "cell_type": "code",
   "execution_count": 16,
   "id": "ef5377e4-ce90-4520-9344-54f7cf24dcb2",
   "metadata": {},
   "outputs": [
    {
     "data": {
      "text/plain": [
       "array([0.05374094, 0.95018578, 0.99033337, 0.77973517, 0.45976745,\n",
       "       0.60985081, 0.88770793, 0.7269293 , 0.9769102 , 0.8671725 ,\n",
       "       0.48790476, 0.5523077 , 0.6597301 , 0.80793398, 0.02861183,\n",
       "       0.59436441, 0.25415137, 0.90262829, 0.10616697])"
      ]
     },
     "execution_count": 16,
     "metadata": {},
     "output_type": "execute_result"
    }
   ],
   "source": [
    "uniform(size=19)"
   ]
  },
  {
   "cell_type": "code",
   "execution_count": 13,
   "id": "3b00ebd2-cbc8-402d-bd94-332b634c769c",
   "metadata": {},
   "outputs": [
    {
     "data": {
      "text/plain": [
       "<module 'numpy' from '/home/fdamicel/projects/pycourse/.venv/lib/python3.12/site-packages/numpy/__init__.py'>"
      ]
     },
     "execution_count": 13,
     "metadata": {},
     "output_type": "execute_result"
    }
   ],
   "source": [
    "np"
   ]
  },
  {
   "cell_type": "code",
   "execution_count": null,
   "id": "ada400f4-e185-4797-ae2a-83863faab061",
   "metadata": {},
   "outputs": [],
   "source": []
  }
 ],
 "metadata": {
  "kernelspec": {
   "display_name": "Python 3 (ipykernel)",
   "language": "python",
   "name": "python3"
  },
  "language_info": {
   "codemirror_mode": {
    "name": "ipython",
    "version": 3
   },
   "file_extension": ".py",
   "mimetype": "text/x-python",
   "name": "python",
   "nbconvert_exporter": "python",
   "pygments_lexer": "ipython3",
   "version": "3.12.5"
  }
 },
 "nbformat": 4,
 "nbformat_minor": 5
}
